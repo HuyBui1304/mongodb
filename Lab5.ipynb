{
 "cells": [
  {
   "cell_type": "code",
   "execution_count": 1,
   "metadata": {},
   "outputs": [],
   "source": [
    "from pymongo import MongoClient\n",
    "from datetime import datetime"
   ]
  },
  {
   "cell_type": "code",
   "execution_count": 2,
   "metadata": {},
   "outputs": [],
   "source": [
    "# kết nối tới mongo\n",
    "client = MongoClient('mongodb://localhost:27017/')\n",
    "client.drop_database('facebookData')"
   ]
  },
  {
   "cell_type": "code",
   "execution_count": 3,
   "metadata": {},
   "outputs": [],
   "source": [
    "# lấy db bất kì\n",
    "# chọn dữ liệu facebook\n",
    "db = client['facebookData']"
   ]
  },
  {
   "cell_type": "code",
   "execution_count": 4,
   "metadata": {},
   "outputs": [],
   "source": [
    "# tạo các collection\n",
    "users_collection = db['users']\n",
    "posts_collection = db['posts']\n",
    "comments_collection = db['comments']"
   ]
  },
  {
   "cell_type": "code",
   "execution_count": 5,
   "metadata": {},
   "outputs": [],
   "source": [
    "# thêm dữ liệu người dùng \n",
    "users_data = [\n",
    "    { 'user_id': 1, 'name': \"Nguyen Van A\", 'email': \"a@gmail.com\", 'age': 25 },\n",
    "    { 'user_id': 2, 'name': \"Tran Thi B\", 'email': \"b@gmail.com\", 'age': 30 },\n",
    "    { 'user_id': 3, 'name': \"Le Van C\", 'email': \"c@gmail.com\", 'age': 22 }\n",
    "]"
   ]
  },
  {
   "cell_type": "code",
   "execution_count": 6,
   "metadata": {},
   "outputs": [
    {
     "data": {
      "text/plain": [
       "InsertManyResult([ObjectId('67125dbe5ed6a3842c836db4'), ObjectId('67125dbe5ed6a3842c836db5'), ObjectId('67125dbe5ed6a3842c836db6')], acknowledged=True)"
      ]
     },
     "execution_count": 6,
     "metadata": {},
     "output_type": "execute_result"
    }
   ],
   "source": [
    "users_collection.insert_many(users_data)"
   ]
  },
  {
   "cell_type": "code",
   "execution_count": 7,
   "metadata": {},
   "outputs": [],
   "source": [
    "# thêm dữ liệu bài đăng\n",
    "posts_data = [\n",
    "    { 'post_id': 1, 'user_id': 1, 'content': \"Hôm nay thật đẹp trời!\", 'created_at': datetime(2024, 10, 1) },\n",
    "    { 'post_id': 2, 'user_id': 2, 'content': \"Mình vừa xem một bộ phim hay!\", 'created_at': datetime(2024, 10, 2) },\n",
    "    { 'post_id': 3, 'user_id': 1, 'content': \"Chúc mọi người một ngày tốt lành!\", 'created_at': datetime(2024, 10, 3) }\n",
    "]"
   ]
  },
  {
   "cell_type": "code",
   "execution_count": 8,
   "metadata": {},
   "outputs": [
    {
     "data": {
      "text/plain": [
       "InsertManyResult([ObjectId('67125dbe5ed6a3842c836db7'), ObjectId('67125dbe5ed6a3842c836db8'), ObjectId('67125dbe5ed6a3842c836db9')], acknowledged=True)"
      ]
     },
     "execution_count": 8,
     "metadata": {},
     "output_type": "execute_result"
    }
   ],
   "source": [
    "posts_collection.insert_many(posts_data)"
   ]
  },
  {
   "cell_type": "code",
   "execution_count": 9,
   "metadata": {},
   "outputs": [],
   "source": [
    "# thêm dữ liệu bình luận\n",
    "comments_data = [\n",
    "    { 'comment_id': 1, 'post_id': 1, 'user_id': 2, 'content': \"Thật tuyệt vời!\", 'created_at': datetime(2024, 10, 1) },\n",
    "    { 'comment_id': 2, 'post_id': 2, 'user_id': 3, 'content': \"Mình cũng muốn xem bộ phim này!\", 'created_at': datetime(2024, 10, 2) },\n",
    "    { 'comment_id': 3, 'post_id': 3, 'user_id': 1, 'content': \"Cảm ơn bạn!\", 'created_at': datetime(2024, 10, 3) }\n",
    "]"
   ]
  },
  {
   "cell_type": "code",
   "execution_count": 10,
   "metadata": {},
   "outputs": [
    {
     "data": {
      "text/plain": [
       "InsertManyResult([ObjectId('67125dbe5ed6a3842c836dba'), ObjectId('67125dbe5ed6a3842c836dbb'), ObjectId('67125dbe5ed6a3842c836dbc')], acknowledged=True)"
      ]
     },
     "execution_count": 10,
     "metadata": {},
     "output_type": "execute_result"
    }
   ],
   "source": [
    "comments_collection.insert_many(comments_data)"
   ]
  },
  {
   "cell_type": "code",
   "execution_count": 11,
   "metadata": {},
   "outputs": [
    {
     "name": "stdout",
     "output_type": "stream",
     "text": [
      "Tất cả người dùng:\n",
      "{'_id': ObjectId('67125dbe5ed6a3842c836db4'), 'user_id': 1, 'name': 'Nguyen Van A', 'email': 'a@gmail.com', 'age': 25}\n",
      "{'_id': ObjectId('67125dbe5ed6a3842c836db5'), 'user_id': 2, 'name': 'Tran Thi B', 'email': 'b@gmail.com', 'age': 30}\n",
      "{'_id': ObjectId('67125dbe5ed6a3842c836db6'), 'user_id': 3, 'name': 'Le Van C', 'email': 'c@gmail.com', 'age': 22}\n"
     ]
    }
   ],
   "source": [
    "print(\"Tất cả người dùng:\")\n",
    "for user in users_collection.find():\n",
    "    print(user)"
   ]
  },
  {
   "cell_type": "code",
   "execution_count": 12,
   "metadata": {},
   "outputs": [
    {
     "data": {
      "text/plain": [
       "<pymongo.synchronous.cursor.Cursor at 0x10a515e50>"
      ]
     },
     "execution_count": 12,
     "metadata": {},
     "output_type": "execute_result"
    }
   ],
   "source": [
    "# Xem bài đăng của người dùng user_1\n",
    "posts_collection.find({'user_id': 1})"
   ]
  },
  {
   "cell_type": "code",
   "execution_count": 13,
   "metadata": {},
   "outputs": [
    {
     "data": {
      "text/plain": [
       "<pymongo.synchronous.cursor.Cursor at 0x10a515d10>"
      ]
     },
     "execution_count": 13,
     "metadata": {},
     "output_type": "execute_result"
    }
   ],
   "source": [
    "# Xem bình luận của người dùng user_1\n",
    "comments_collection.find({'post_id': 1})"
   ]
  },
  {
   "cell_type": "code",
   "execution_count": 14,
   "metadata": {},
   "outputs": [
    {
     "name": "stdout",
     "output_type": "stream",
     "text": [
      "{'_id': ObjectId('67125dbe5ed6a3842c836db5'), 'user_id': 2, 'name': 'Tran Thi B', 'email': 'b@gmail.com', 'age': 30}\n"
     ]
    }
   ],
   "source": [
    "# truy vấn người dùng có độ tuổi trên 25\n",
    "users_over_25 = users_collection.find({ 'age': { '$gt': 25 } })\n",
    "for user in users_over_25:\n",
    "    print(user)"
   ]
  },
  {
   "cell_type": "code",
   "execution_count": 15,
   "metadata": {},
   "outputs": [
    {
     "name": "stdout",
     "output_type": "stream",
     "text": [
      "{'_id': ObjectId('67125dbe5ed6a3842c836db7'), 'post_id': 1, 'user_id': 1, 'content': 'Hôm nay thật đẹp trời!', 'created_at': datetime.datetime(2024, 10, 1, 0, 0)}\n",
      "{'_id': ObjectId('67125dbe5ed6a3842c836db8'), 'post_id': 2, 'user_id': 2, 'content': 'Mình vừa xem một bộ phim hay!', 'created_at': datetime.datetime(2024, 10, 2, 0, 0)}\n",
      "{'_id': ObjectId('67125dbe5ed6a3842c836db9'), 'post_id': 3, 'user_id': 1, 'content': 'Chúc mọi người một ngày tốt lành!', 'created_at': datetime.datetime(2024, 10, 3, 0, 0)}\n"
     ]
    }
   ],
   "source": [
    "# Truy vấn tất cả bài đăng được tạo trong tháng 10\n",
    "posts_in_October = posts_collection.find({'created_at': {'$gte': datetime(2024, 10, 1), '$lt': datetime(2024, 11, 1)}})\n",
    "for post in posts_in_October:\n",
    "    print(post)"
   ]
  },
  {
   "cell_type": "code",
   "execution_count": 16,
   "metadata": {},
   "outputs": [
    {
     "data": {
      "text/plain": [
       "DeleteResult({'n': 1, 'ok': 1.0}, acknowledged=True)"
      ]
     },
     "execution_count": 16,
     "metadata": {},
     "output_type": "execute_result"
    }
   ],
   "source": [
    "# cập nhật và xóa dữ liệu \n",
    "posts_collection.update_one({'post_id': 1}, {'$set': {'content': \"Hôm nay thời tiết thật đẹp!\"}})\n",
    "# xóa bình luận của comment_id 2\n",
    "comments_collection.delete_one({'comment_id': 2})"
   ]
  },
  {
   "cell_type": "code",
   "execution_count": 17,
   "metadata": {},
   "outputs": [
    {
     "name": "stdout",
     "output_type": "stream",
     "text": [
      "{'_id': ObjectId('67125dbe5ed6a3842c836db7'), 'post_id': 1, 'user_id': 1, 'content': 'Hôm nay thời tiết thật đẹp!', 'created_at': datetime.datetime(2024, 10, 1, 0, 0)}\n",
      "{'_id': ObjectId('67125dbe5ed6a3842c836db8'), 'post_id': 2, 'user_id': 2, 'content': 'Mình vừa xem một bộ phim hay!', 'created_at': datetime.datetime(2024, 10, 2, 0, 0)}\n",
      "{'_id': ObjectId('67125dbe5ed6a3842c836db9'), 'post_id': 3, 'user_id': 1, 'content': 'Chúc mọi người một ngày tốt lành!', 'created_at': datetime.datetime(2024, 10, 3, 0, 0)}\n",
      "{'_id': ObjectId('67125dbe5ed6a3842c836dba'), 'comment_id': 1, 'post_id': 1, 'user_id': 2, 'content': 'Thật tuyệt vời!', 'created_at': datetime.datetime(2024, 10, 1, 0, 0)}\n",
      "{'_id': ObjectId('67125dbe5ed6a3842c836dbc'), 'comment_id': 3, 'post_id': 3, 'user_id': 1, 'content': 'Cảm ơn bạn!', 'created_at': datetime.datetime(2024, 10, 3, 0, 0)}\n"
     ]
    }
   ],
   "source": [
    "# xem lại dữ liệu\n",
    "for post in posts_collection.find():\n",
    "    print(post)\n",
    "for comment in comments_collection.find():\n",
    "    print(comment)"
   ]
  }
 ],
 "metadata": {
  "kernelspec": {
   "display_name": "myenv",
   "language": "python",
   "name": "python3"
  },
  "language_info": {
   "codemirror_mode": {
    "name": "ipython",
    "version": 3
   },
   "file_extension": ".py",
   "mimetype": "text/x-python",
   "name": "python",
   "nbconvert_exporter": "python",
   "pygments_lexer": "ipython3",
   "version": "3.13.0"
  }
 },
 "nbformat": 4,
 "nbformat_minor": 2
}
