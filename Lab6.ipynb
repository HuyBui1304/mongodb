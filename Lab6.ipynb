{
 "cells": [
  {
   "cell_type": "code",
   "execution_count": 19,
   "metadata": {},
   "outputs": [
    {
     "data": {
      "text/plain": [
       "InsertManyResult([ObjectId('67125dbc825d8deed35f5e1d'), ObjectId('67125dbc825d8deed35f5e1e'), ObjectId('67125dbc825d8deed35f5e1f'), ObjectId('67125dbc825d8deed35f5e20'), ObjectId('67125dbc825d8deed35f5e21')], acknowledged=True)"
      ]
     },
     "execution_count": 19,
     "metadata": {},
     "output_type": "execute_result"
    }
   ],
   "source": [
    "from pymongo import MongoClient\n",
    "from datetime import datetime\n",
    "\n",
    "# Kết nối với MongoDB\n",
    "client = MongoClient('mongodb://localhost:27017/')\n",
    "client.drop_database('driveManagement')\n",
    "db = client['driveManagement']  # Tạo cơ sở dữ liệu 'driveManagement'\n",
    "\n",
    "# Tạo bộ sưu tập 'files' và thêm dữ liệu\n",
    "db.files.insert_many([\n",
    "    { 'file_id': 1, 'name': \"Report.pdf\", 'size': 2048, 'owner': \"Nguyen Van A\", 'created_at': datetime(2024, 1, 10), 'shared': False },\n",
    "    { 'file_id': 2, 'name': \"Presentation.pptx\", 'size': 5120, 'owner': \"Tran Thi B\", 'created_at': datetime(2024, 1, 15), 'shared': True },\n",
    "    { 'file_id': 3, 'name': \"Image.png\", 'size': 1024, 'owner': \"Le Van C\", 'created_at': datetime(2024, 1, 20), 'shared': False },\n",
    "    { 'file_id': 4, 'name': \"Spreadsheet.xlsx\", 'size': 3072, 'owner': \"Pham Van D\", 'created_at': datetime(2024, 1, 25), 'shared': True },\n",
    "    { 'file_id': 5, 'name': \"Notes.txt\", 'size': 512, 'owner': \"Nguyen Thi E\", 'created_at': datetime(2024, 1, 30), 'shared': False }\n",
    "])\n"
   ]
  },
  {
   "cell_type": "code",
   "execution_count": 20,
   "metadata": {},
   "outputs": [
    {
     "name": "stdout",
     "output_type": "stream",
     "text": [
      "{'_id': ObjectId('67125dbc825d8deed35f5e1d'), 'file_id': 1, 'name': 'Report.pdf', 'size': 2048, 'owner': 'Nguyen Van A', 'created_at': datetime.datetime(2024, 1, 10, 0, 0), 'shared': False}\n",
      "{'_id': ObjectId('67125dbc825d8deed35f5e1e'), 'file_id': 2, 'name': 'Presentation.pptx', 'size': 5120, 'owner': 'Tran Thi B', 'created_at': datetime.datetime(2024, 1, 15, 0, 0), 'shared': True}\n",
      "{'_id': ObjectId('67125dbc825d8deed35f5e1f'), 'file_id': 3, 'name': 'Image.png', 'size': 1024, 'owner': 'Le Van C', 'created_at': datetime.datetime(2024, 1, 20, 0, 0), 'shared': False}\n",
      "{'_id': ObjectId('67125dbc825d8deed35f5e20'), 'file_id': 4, 'name': 'Spreadsheet.xlsx', 'size': 3072, 'owner': 'Pham Van D', 'created_at': datetime.datetime(2024, 1, 25, 0, 0), 'shared': True}\n",
      "{'_id': ObjectId('67125dbc825d8deed35f5e21'), 'file_id': 5, 'name': 'Notes.txt', 'size': 512, 'owner': 'Nguyen Thi E', 'created_at': datetime.datetime(2024, 1, 30, 0, 0), 'shared': False}\n"
     ]
    }
   ],
   "source": [
    "for file in db.files.find():\n",
    "    print(file)\n"
   ]
  },
  {
   "cell_type": "code",
   "execution_count": 21,
   "metadata": {},
   "outputs": [
    {
     "name": "stdout",
     "output_type": "stream",
     "text": [
      "{'_id': ObjectId('67125dbc825d8deed35f5e1d'), 'file_id': 1, 'name': 'Report.pdf', 'size': 2048, 'owner': 'Nguyen Van A', 'created_at': datetime.datetime(2024, 1, 10, 0, 0), 'shared': False}\n",
      "{'_id': ObjectId('67125dbc825d8deed35f5e1e'), 'file_id': 2, 'name': 'Presentation.pptx', 'size': 5120, 'owner': 'Tran Thi B', 'created_at': datetime.datetime(2024, 1, 15, 0, 0), 'shared': True}\n",
      "{'_id': ObjectId('67125dbc825d8deed35f5e20'), 'file_id': 4, 'name': 'Spreadsheet.xlsx', 'size': 3072, 'owner': 'Pham Van D', 'created_at': datetime.datetime(2024, 1, 25, 0, 0), 'shared': True}\n"
     ]
    }
   ],
   "source": [
    "for file in db.files.find({ 'size': { '$gt': 2000 } }):\n",
    "    print(file)\n"
   ]
  },
  {
   "cell_type": "code",
   "execution_count": 22,
   "metadata": {},
   "outputs": [
    {
     "name": "stdout",
     "output_type": "stream",
     "text": [
      "Tổng số tệp: 5\n"
     ]
    }
   ],
   "source": [
    "file_count = db.files.count_documents({})\n",
    "print(f\"Tổng số tệp: {file_count}\")\n"
   ]
  },
  {
   "cell_type": "code",
   "execution_count": 23,
   "metadata": {},
   "outputs": [
    {
     "name": "stdout",
     "output_type": "stream",
     "text": [
      "{'_id': ObjectId('67125dbc825d8deed35f5e1e'), 'file_id': 2, 'name': 'Presentation.pptx', 'size': 5120, 'owner': 'Tran Thi B', 'created_at': datetime.datetime(2024, 1, 15, 0, 0), 'shared': True}\n",
      "{'_id': ObjectId('67125dbc825d8deed35f5e20'), 'file_id': 4, 'name': 'Spreadsheet.xlsx', 'size': 3072, 'owner': 'Pham Van D', 'created_at': datetime.datetime(2024, 1, 25, 0, 0), 'shared': True}\n"
     ]
    }
   ],
   "source": [
    "for file in db.files.find({ 'shared': True }):\n",
    "    print(file)\n"
   ]
  },
  {
   "cell_type": "code",
   "execution_count": 24,
   "metadata": {},
   "outputs": [
    {
     "name": "stdout",
     "output_type": "stream",
     "text": [
      "{'_id': 'Pham Van D', 'count': 1}\n",
      "{'_id': 'Nguyen Van A', 'count': 1}\n",
      "{'_id': 'Tran Thi B', 'count': 1}\n",
      "{'_id': 'Nguyen Thi E', 'count': 1}\n",
      "{'_id': 'Le Van C', 'count': 1}\n"
     ]
    }
   ],
   "source": [
    "owner_file_count = db.files.aggregate([\n",
    "    { '$group': { '_id': \"$owner\", 'count': { '$sum': 1 } } }\n",
    "])\n",
    "\n",
    "for owner in owner_file_count:\n",
    "    print(owner)\n"
   ]
  },
  {
   "cell_type": "code",
   "execution_count": 25,
   "metadata": {},
   "outputs": [
    {
     "data": {
      "text/plain": [
       "UpdateResult({'n': 1, 'nModified': 1, 'ok': 1.0, 'updatedExisting': True}, acknowledged=True)"
      ]
     },
     "execution_count": 25,
     "metadata": {},
     "output_type": "execute_result"
    }
   ],
   "source": [
    "db.files.update_one({ 'file_id': 1 }, { '$set': { 'shared': True } })\n"
   ]
  },
  {
   "cell_type": "code",
   "execution_count": 26,
   "metadata": {},
   "outputs": [
    {
     "data": {
      "text/plain": [
       "DeleteResult({'n': 1, 'ok': 1.0}, acknowledged=True)"
      ]
     },
     "execution_count": 26,
     "metadata": {},
     "output_type": "execute_result"
    }
   ],
   "source": [
    "db.files.delete_one({ 'file_id': 3 })\n"
   ]
  },
  {
   "cell_type": "code",
   "execution_count": 27,
   "metadata": {},
   "outputs": [
    {
     "name": "stdout",
     "output_type": "stream",
     "text": [
      "{'_id': ObjectId('67125dbc825d8deed35f5e1d'), 'file_id': 1, 'name': 'Report.pdf', 'size': 2048, 'owner': 'Nguyen Van A', 'created_at': datetime.datetime(2024, 1, 10, 0, 0), 'shared': True}\n",
      "{'_id': ObjectId('67125dbc825d8deed35f5e1e'), 'file_id': 2, 'name': 'Presentation.pptx', 'size': 5120, 'owner': 'Tran Thi B', 'created_at': datetime.datetime(2024, 1, 15, 0, 0), 'shared': True}\n",
      "{'_id': ObjectId('67125dbc825d8deed35f5e20'), 'file_id': 4, 'name': 'Spreadsheet.xlsx', 'size': 3072, 'owner': 'Pham Van D', 'created_at': datetime.datetime(2024, 1, 25, 0, 0), 'shared': True}\n",
      "{'_id': ObjectId('67125dbc825d8deed35f5e21'), 'file_id': 5, 'name': 'Notes.txt', 'size': 512, 'owner': 'Nguyen Thi E', 'created_at': datetime.datetime(2024, 1, 30, 0, 0), 'shared': False}\n"
     ]
    }
   ],
   "source": [
    "for file in db.files.find():\n",
    "    print(file)\n"
   ]
  }
 ],
 "metadata": {
  "kernelspec": {
   "display_name": "myenv",
   "language": "python",
   "name": "myenv"
  },
  "language_info": {
   "codemirror_mode": {
    "name": "ipython",
    "version": 3
   },
   "file_extension": ".py",
   "mimetype": "text/x-python",
   "name": "python",
   "nbconvert_exporter": "python",
   "pygments_lexer": "ipython3",
   "version": "3.13.0"
  }
 },
 "nbformat": 4,
 "nbformat_minor": 2
}
